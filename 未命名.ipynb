{
 "cells": [
  {
   "cell_type": "code",
   "execution_count": 1,
   "metadata": {},
   "outputs": [],
   "source": [
    "import requests\n",
    "from lxml import etree\n",
    "import json"
   ]
  },
  {
   "cell_type": "code",
   "execution_count": 37,
   "metadata": {},
   "outputs": [],
   "source": [
    "headers = {\n",
    "    \"user-agent\": \"Mozilla/5.0 (Windows NT 10.0; Win64; x64) AppleWebKit/537.36 (KHTML, like Gecko) \"\n",
    "                  \"Chrome/80.0.3987.163 Safari/537.36 Edg/80.0.361.111\"\n",
    "}\n",
    "s = requests.Session()\n",
    "login_get = s.get(\"http://glidedsky.com/login\")"
   ]
  },
  {
   "cell_type": "code",
   "execution_count": 9,
   "metadata": {},
   "outputs": [
    {
     "data": {
      "text/plain": [
       "<Response [200]>"
      ]
     },
     "execution_count": 9,
     "metadata": {},
     "output_type": "execute_result"
    }
   ],
   "source": [
    "login_get"
   ]
  },
  {
   "cell_type": "code",
   "execution_count": 38,
   "metadata": {},
   "outputs": [],
   "source": [
    "tree = etree.HTML(login_get.text)\n",
    "token = tree.xpath('//input[@type=\"hidden\"]/@value')[0]"
   ]
  },
  {
   "cell_type": "code",
   "execution_count": 39,
   "metadata": {},
   "outputs": [
    {
     "data": {
      "text/plain": [
       "'zVc0k7hKBiCWAq0CCbWocR045iGZkaeEWDyfIK7R'"
      ]
     },
     "execution_count": 39,
     "metadata": {},
     "output_type": "execute_result"
    }
   ],
   "source": [
    "token"
   ]
  },
  {
   "cell_type": "code",
   "execution_count": 40,
   "metadata": {},
   "outputs": [
    {
     "data": {
      "text/plain": [
       "{'email': 'zhifeix@foxmail.com',\n",
       " 'password': '19941025qy1111',\n",
       " '_token': 'zVc0k7hKBiCWAq0CCbWocR045iGZkaeEWDyfIK7R'}"
      ]
     },
     "execution_count": 40,
     "metadata": {},
     "output_type": "execute_result"
    }
   ],
   "source": [
    "data = {\n",
    "    'email': 'zhifeix@foxmail.com',\n",
    "    'password': '19941025qy1111'}\n",
    "data.update(_token=token)\n",
    "data"
   ]
  },
  {
   "cell_type": "code",
   "execution_count": 41,
   "metadata": {},
   "outputs": [],
   "source": [
    "login_post = s.post(\"http://glidedsky.com/login\", data=data)"
   ]
  },
  {
   "cell_type": "code",
   "execution_count": 42,
   "metadata": {},
   "outputs": [
    {
     "data": {
      "text/plain": [
       "{'XSRF-TOKEN': 'eyJpdiI6IjYxUVdvaXpaVURrUWJ1cURYREo1XC9RPT0iLCJ2YWx1ZSI6IkNSMW9EV3U3TFRDZWFuYUxcL1doREhTb2Zzemd2OU9ETjllNXN3R2NLUStTT0ZcLzB6bjY1YUpBczV4RXJ6emRrKyIsIm1hYyI6IjkzOTEyMjdkMGRmN2NkNmZjYWU4NGIyYjdhYjNlYTExNjc4ZWI5N2QwYzlhN2QxOGU1ZTdjMDA5MTM3MWUzZTgifQ%3D%3D',\n",
       " 'glidedsky_session': 'eyJpdiI6IkgxVVpCd0hDTCtGMUpjRDJcLzlFUjZRPT0iLCJ2YWx1ZSI6IlpuWm1qNGVLN0t2YXZ0SWZZXC8wN1lRWm9kaWhMNkljMjFoZ1dGS09cL2grRVg2MGZJWGtiUkg0RXY0cTZqcitLbiIsIm1hYyI6IjAyNjVjYjJlYTIyNzZiODRkZjQ1NDhlZjI3YzQwMjVkMTUzZjg5OWUxOTA3YjI5ZmM0NTBiODc1NmNiN2E2ZjIifQ%3D%3D'}"
      ]
     },
     "execution_count": 42,
     "metadata": {},
     "output_type": "execute_result"
    }
   ],
   "source": [
    "login_post.cookies.get_dict()"
   ]
  },
  {
   "cell_type": "code",
   "execution_count": null,
   "metadata": {},
   "outputs": [],
   "source": [
    "_ga=GA1.2.1287924611.1609908547;\n",
    "_gid=GA1.2.772664187.1609908547;\n",
    "Hm_lvt_020fbaad6104bcddd1db12d6b78812f6=1609908547,1609982279;\n",
    "XSRF-TOKEN=eyJpdiI6IkdWWURcL2lXbmJjY1NKNTBYT1EyditnPT0iLCJ2YWx1ZSI6IkpuXC9vTk12b3FHWnlEOXNlXC81endtMG9iNEIzUDZIQnkzZUJaUGdMbDNGY205Rjd2d1lmbnRMZ2Vpd2NpWGJYSyIsIm1hYyI6ImJkMzlkNDU4Y2ZjNzQwOTI5MzA2YTU5YmY5Yjg3OWE5ZDJiNTczNTY3MWM5N2MzZDI0ODYzNmQzM2ZiNjQzMjIifQ%3D%3D;\n",
    "glidedsky_session=eyJpdiI6IjduWlRMVFpTR2llOXBWT3dsRzBSS2c9PSIsInZhbHVlIjoiZHVscDN1RTVKbjZicmx5S3EzTG1SbUx5Sms4eVNPKzdYQXZrSFBJTzVpTmhYSTcxVFVscFNURGM4NnZTSDVuYiIsIm1hYyI6IjIzYjUyZmZlYTU5NGMyOTkxMjY5ZWZmMzBmZTFjOThlNjI0NzU4MzlkZjY5MzkyMjU5MjlkNTAzMDEyMTlmMWQifQ%3D%3D; footprints=eyJpdiI6IjRPVDNjWkRaeFU0NkFaQ245blZvY1E9PSIsInZhbHVlIjoieFlvZXdOZ1AyNWtTMEUrWVFSMkt1VUdRWmNQSjd1eVdpbER1YThXRVdFNndnRitTeXB3eWczMyswdEdDMHlqeSIsIm1hYyI6IjAzOGVkMmJlNTQ0ZmQ5ZGY5ZmE1ZjI3YjdlZGYxZWQ3MTM3MmNlMTM4YzlhOTQ2ZTNmMTFhZTdhNWU3OTI1MzkifQ%3D%3D;\n",
    "Hm_lpvt_020fbaad6104bcddd1db12d6b78812f6=1609997997; _gat_gtag_UA_75859356_3=1"
   ]
  },
  {
   "cell_type": "code",
   "execution_count": 43,
   "metadata": {},
   "outputs": [
    {
     "data": {
      "text/plain": [
       "<Response [200]>"
      ]
     },
     "execution_count": 43,
     "metadata": {},
     "output_type": "execute_result"
    }
   ],
   "source": [
    "login_post"
   ]
  },
  {
   "cell_type": "code",
   "execution_count": 70,
   "metadata": {},
   "outputs": [],
   "source": [
    "array =  [[1, 2, 3,]   ,\n",
    " [2, 3, 4,],\n",
    " [3, 4, 5,],\n",
    " [4, 5, 1,],\n",
    " [5, 1, 2,],\n",
    " [1, 2, 3,],\n",
    " [2, 3, 4,],\n",
    " [3, 4, 5,],\n",
    " [4, 5, 6,],\n",
    " [5, 6, 7,],\n",
    " [6, 7, 8,],\n",
    " [7, 8, 9,]]"
   ]
  },
  {
   "cell_type": "code",
   "execution_count": 71,
   "metadata": {},
   "outputs": [],
   "source": [
    "def dis(a,b):\n",
    "    return max(abs(a[0]-b[0]),abs(a[1]-b[1]),abs(a[2]-b[2]))"
   ]
  },
  {
   "cell_type": "code",
   "execution_count": 53,
   "metadata": {},
   "outputs": [],
   "source": [
    "import numpy as np"
   ]
  },
  {
   "cell_type": "code",
   "execution_count": 73,
   "metadata": {},
   "outputs": [
    {
     "data": {
      "text/plain": [
       "2"
      ]
     },
     "execution_count": 73,
     "metadata": {},
     "output_type": "execute_result"
    },
    {
     "data": {
      "text/plain": [
       "2"
      ]
     },
     "execution_count": 73,
     "metadata": {},
     "output_type": "execute_result"
    },
    {
     "data": {
      "text/plain": [
       "2"
      ]
     },
     "execution_count": 73,
     "metadata": {},
     "output_type": "execute_result"
    },
    {
     "data": {
      "text/plain": [
       "1"
      ]
     },
     "execution_count": 73,
     "metadata": {},
     "output_type": "execute_result"
    },
    {
     "data": {
      "text/plain": [
       "1"
      ]
     },
     "execution_count": 73,
     "metadata": {},
     "output_type": "execute_result"
    },
    {
     "data": {
      "text/plain": [
       "2"
      ]
     },
     "execution_count": 73,
     "metadata": {},
     "output_type": "execute_result"
    },
    {
     "data": {
      "text/plain": [
       "2"
      ]
     },
     "execution_count": 73,
     "metadata": {},
     "output_type": "execute_result"
    },
    {
     "data": {
      "text/plain": [
       "2"
      ]
     },
     "execution_count": 73,
     "metadata": {},
     "output_type": "execute_result"
    },
    {
     "data": {
      "text/plain": [
       "1"
      ]
     },
     "execution_count": 73,
     "metadata": {},
     "output_type": "execute_result"
    },
    {
     "data": {
      "text/plain": [
       "1"
      ]
     },
     "execution_count": 73,
     "metadata": {},
     "output_type": "execute_result"
    },
    {
     "data": {
      "text/plain": [
       "1"
      ]
     },
     "execution_count": 73,
     "metadata": {},
     "output_type": "execute_result"
    },
    {
     "data": {
      "text/plain": [
       "1"
      ]
     },
     "execution_count": 73,
     "metadata": {},
     "output_type": "execute_result"
    }
   ],
   "source": [
    "for i in range(12):\n",
    "    lis_ = []\n",
    "    for j in range(12):\n",
    "        d = dis(array[i],array[j])\n",
    "        lis_.append(d)\n",
    "    np.sum(np.array(lis_)<1)\n"
   ]
  },
  {
   "cell_type": "code",
   "execution_count": null,
   "metadata": {},
   "outputs": [],
   "source": []
  }
 ],
 "metadata": {
  "kernelspec": {
   "display_name": "Python 3",
   "language": "python",
   "name": "python3"
  },
  "language_info": {
   "codemirror_mode": {
    "name": "ipython",
    "version": 3
   },
   "file_extension": ".py",
   "mimetype": "text/x-python",
   "name": "python",
   "nbconvert_exporter": "python",
   "pygments_lexer": "ipython3",
   "version": "3.8.5"
  }
 },
 "nbformat": 4,
 "nbformat_minor": 4
}
